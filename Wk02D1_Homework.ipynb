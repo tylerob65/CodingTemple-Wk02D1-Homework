{
 "cells": [
  {
   "cell_type": "markdown",
   "metadata": {},
   "source": [
    "# Week 2 - Monday Lesson (variable assignment, loops, lists)\n",
    "# Homework"
   ]
  },
  {
   "cell_type": "markdown",
   "metadata": {},
   "source": [
    "## Exercise #1 <br>\n",
    "<p>Cube Number Test... Print out all cubed numbers up to the total value 1000. Meaning that if the cubed number is over 1000 break the loop.</p>"
   ]
  },
  {
   "cell_type": "code",
   "execution_count": 1,
   "metadata": {},
   "outputs": [
    {
     "name": "stdout",
     "output_type": "stream",
     "text": [
      "1\n",
      "8\n",
      "27\n",
      "64\n",
      "125\n",
      "216\n",
      "343\n",
      "512\n",
      "729\n",
      "1000\n"
     ]
    }
   ],
   "source": [
    "def Exercise1():\n",
    "    upper_limit = 1000\n",
    "    i = 1\n",
    "    cube = 1\n",
    "    while cube <= upper_limit:\n",
    "        print(cube)\n",
    "        i += 1\n",
    "        cube = i ** 3\n",
    "        \n",
    "Exercise1()"
   ]
  },
  {
   "cell_type": "markdown",
   "metadata": {},
   "source": [
    "## Exercise #2 <br>\n",
    "<p>Get first prime numbers up to 100</p>"
   ]
  },
  {
   "cell_type": "code",
   "execution_count": 2,
   "metadata": {},
   "outputs": [
    {
     "name": "stdout",
     "output_type": "stream",
     "text": [
      "2\n",
      "3\n",
      "5\n",
      "7\n",
      "11\n",
      "13\n",
      "17\n",
      "19\n",
      "23\n",
      "29\n",
      "31\n",
      "37\n",
      "41\n",
      "43\n",
      "47\n",
      "53\n",
      "59\n",
      "61\n",
      "67\n",
      "71\n",
      "73\n",
      "79\n",
      "83\n",
      "89\n",
      "97\n"
     ]
    }
   ],
   "source": [
    "# Functions tells you if num is divisible by the numbers\n",
    "# in a divisors list. Used in function to find primes. \n",
    "# max_val is optional argument to only check divisors below or equal to\n",
    "# max val. Can be used to optimize finding primes.\n",
    "def is_divisible_by_any(num,divisors,skip_first_divisor=False,max_val=None):\n",
    "    # Empty lists return False\n",
    "    if len(divisors) == 0:\n",
    "        return False\n",
    "    \n",
    "    check_max_val = not max_val is None\n",
    "    \n",
    "    # Loops through divisors, returns True if num is divisible\n",
    "    # by any in list. If max_val is not None, it will stop checking\n",
    "    # once it finds a divisor greater than the max val\n",
    "    for div in divisors:\n",
    "        if check_max_val and div > max_val:\n",
    "            return False\n",
    "        if num % div == 0:\n",
    "            return True\n",
    "    return False\n",
    "\n",
    "# Function to return all primes from 2 up to and including n\n",
    "# n. Returns [-1] if invalid input. Floats are rounded down.\n",
    "def all_primes_up_to(n):\n",
    "    # Error Checking\n",
    "    if not (isinstance(n,int) or isinstance(n,float)):\n",
    "        return [-1]\n",
    "    if n < 2:\n",
    "        return [-1]\n",
    "    \n",
    "    # Makes sure n is an int\n",
    "    n = int(n)\n",
    "    \n",
    "    # 2 is the only prime we are inputting from start. If user\n",
    "    # selects this from beginning, return list with just [2]\n",
    "    if n == 2:\n",
    "        return [2]\n",
    "    \n",
    "    # Prime_list will be a list of known primes we find during \n",
    "    # function. Know 2 is prime from beginning.\n",
    "    prime_list = [2]\n",
    "    \n",
    "    # Loop through all numbers in from 3 to n. Increment by \n",
    "    # 2 because know all evens above 3 are not prime. \n",
    "    for num in range(3,n+1,2):\n",
    "        # We only need to check if number is divisible by\n",
    "        # known primes to know if it is not prime. And we \n",
    "        # only need to check divisors up to the square root \n",
    "        # of the number.\n",
    "        if is_divisible_by_any(num,prime_list,max_val=int(num**0.5)):\n",
    "            continue\n",
    "        prime_list.append(num)\n",
    "    return prime_list\n",
    "\n",
    "def Exercise2():\n",
    "    # Mess around with upperbound, function outputs primes up to 1million pretty quickly\n",
    "    # as long as it is in VS Code\n",
    "    upperbound = 100\n",
    "    primes = all_primes_up_to(upperbound)\n",
    "    if primes[0] == [-1]:\n",
    "        print(\"Function Returned an error\")\n",
    "        print(\"Make sure upperbound is number >= 2\")\n",
    "    else:\n",
    "        for prime in primes:\n",
    "            print(prime)\n",
    "    return\n",
    "\n",
    "Exercise2()        "
   ]
  },
  {
   "cell_type": "markdown",
   "metadata": {},
   "source": [
    "# Exercise 3 <br>\n",
    "<p>Take in a users input for their age, if they are younger than 18 print kids, if they're 18 to 65 print adults, else print seniors</p>"
   ]
  },
  {
   "cell_type": "code",
   "execution_count": 3,
   "metadata": {},
   "outputs": [
    {
     "name": "stdout",
     "output_type": "stream",
     "text": [
      "What is your age?: 20\n",
      "adults\n"
     ]
    }
   ],
   "source": [
    "def Exercise3():\n",
    "    error_message = \"Please enter number greater than or equal to zero\"    \n",
    "    # Get input and error check\n",
    "    while True:\n",
    "        age = input(\"What is your age?: \")\n",
    "        try:\n",
    "            age = float(age)\n",
    "        except:\n",
    "            print(error_message)\n",
    "            continue\n",
    "        if age < 0:\n",
    "            print(error_message)\n",
    "            continue\n",
    "        else:\n",
    "            break\n",
    "    if age < 18:\n",
    "        print(\"kids\")\n",
    "    elif age < 65:\n",
    "        print(\"adults\")\n",
    "    else:\n",
    "        print(\"seniors\")\n",
    "    \n",
    "\n",
    "Exercise3()"
   ]
  },
  {
   "cell_type": "code",
   "execution_count": null,
   "metadata": {},
   "outputs": [],
   "source": []
  }
 ],
 "metadata": {
  "kernelspec": {
   "display_name": "Python 3 (ipykernel)",
   "language": "python",
   "name": "python3"
  },
  "language_info": {
   "codemirror_mode": {
    "name": "ipython",
    "version": 3
   },
   "file_extension": ".py",
   "mimetype": "text/x-python",
   "name": "python",
   "nbconvert_exporter": "python",
   "pygments_lexer": "ipython3",
   "version": "3.9.15"
  }
 },
 "nbformat": 4,
 "nbformat_minor": 2
}
